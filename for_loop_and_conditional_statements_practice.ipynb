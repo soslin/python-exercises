{
 "cells": [
  {
   "cell_type": "code",
   "execution_count": null,
   "metadata": {},
   "outputs": [],
   "source": [
    "# 1. Write a Python program to find those numbers which are divisible by 7 and multiple of 5, between 1500 and 2700 \n",
    "# (both included)"
   ]
  },
  {
   "cell_type": "code",
   "execution_count": 92,
   "metadata": {},
   "outputs": [],
   "source": [
    "def div_seven_mult_five():\n",
    "    num_list = []\n",
    "    for n in range(1500,2701):\n",
    "        if n % 5 == 0 and n % 7 == 0:\n",
    "            num_list.append(n)\n",
    "    return num_list\n"
   ]
  },
  {
   "cell_type": "code",
   "execution_count": 88,
   "metadata": {},
   "outputs": [
    {
     "data": {
      "text/plain": [
       "[1505,\n",
       " 1540,\n",
       " 1575,\n",
       " 1610,\n",
       " 1645,\n",
       " 1680,\n",
       " 1715,\n",
       " 1750,\n",
       " 1785,\n",
       " 1820,\n",
       " 1855,\n",
       " 1890,\n",
       " 1925,\n",
       " 1960,\n",
       " 1995,\n",
       " 2030,\n",
       " 2065,\n",
       " 2100,\n",
       " 2135,\n",
       " 2170,\n",
       " 2205,\n",
       " 2240,\n",
       " 2275,\n",
       " 2310,\n",
       " 2345,\n",
       " 2380,\n",
       " 2415,\n",
       " 2450,\n",
       " 2485,\n",
       " 2520,\n",
       " 2555,\n",
       " 2590,\n",
       " 2625,\n",
       " 2660,\n",
       " 2695]"
      ]
     },
     "execution_count": 88,
     "metadata": {},
     "output_type": "execute_result"
    }
   ],
   "source": [
    "div_seven_mult_five()"
   ]
  },
  {
   "cell_type": "code",
   "execution_count": null,
   "metadata": {},
   "outputs": [],
   "source": [
    "# 2. Write a Python program to convert temperatures to and from celsius, fahrenheit.\n",
    "# [ Formula : c/5 = f-32/9 [ where c = temperature in celsius and f = temperature in fahrenheit ] "
   ]
  },
  {
   "cell_type": "code",
   "execution_count": 123,
   "metadata": {},
   "outputs": [],
   "source": [
    "def farh_and_cel():\n",
    "    scale = input('Do you wish to convert to farhenheit or to celsius? f or c: ').strip().lower()\n",
    "    sample_temp = input('Provide a number to convert: ').strip()\n",
    "    sample_temp = int(sample_temp)\n",
    "    if scale == 'c':\n",
    "        celsius = (sample_temp -32) * 5/9\n",
    "        print (celsius)\n",
    "    if scale == 'f':\n",
    "        farhenheit = (sample_temp * 9/5) + 32\n",
    "        print (farhenheit)\n",
    "    \n"
   ]
  },
  {
   "cell_type": "code",
   "execution_count": 129,
   "metadata": {},
   "outputs": [
    {
     "name": "stdout",
     "output_type": "stream",
     "text": [
      "Do you wish to convert to farhenheit or to celsius? f or c: f\n",
      "Provide a number to convert: 40\n",
      "104.0\n",
      "Do you want to go again? y/n: n\n"
     ]
    }
   ],
   "source": [
    "again = 'y'\n",
    "while again == 'y':\n",
    "    farh_and_cel()\n",
    "    again = input('Do you want to go again? y/n: ').strip().lower()"
   ]
  },
  {
   "cell_type": "code",
   "execution_count": null,
   "metadata": {},
   "outputs": [],
   "source": [
    "# 3. Write a Python program to guess a number between 1 to 9. Note : User is prompted to enter a guess. If the user \n",
    "# guesses wrong then the prompt appears again until the guess is correct, on successful guess, user will get a \n",
    "# \"Well guessed!\" message, and the program will exit."
   ]
  },
  {
   "cell_type": "code",
   "execution_count": 139,
   "metadata": {},
   "outputs": [
    {
     "name": "stdout",
     "output_type": "stream",
     "text": [
      "Guess a number between 1 and 9: 5\n",
      "Try again. You have 9 tries left.\n",
      "Try again. You have 8 tries left.\n",
      "Try again. You have 7 tries left.\n",
      "Try again. You have 6 tries left.\n",
      "Try again. You have 5 tries left.\n",
      "Try again. You have 4 tries left.\n",
      "Try again. You have 3 tries left.\n",
      "Try again. You have 2 tries left.\n",
      "Try again. You have 1 tries left.\n"
     ]
    }
   ],
   "source": [
    "from random import randint\n",
    "n = randint(1,10)\n",
    "count = 1\n",
    "user_guess = input('Guess a number between 1 and 9: ').strip()\n",
    "while count != 10:\n",
    "    while not str(user_guess).isdigit():\n",
    "        user_guess = input('Invalid choice. Please try again.')\n",
    "    \n",
    "    user_guess = int(user_guess)\n",
    "    \n",
    "    \n",
    "    if n == user_guess:\n",
    "        print('Well chosen.')\n",
    "        count = 10\n",
    "    elif count == 10:\n",
    "        print('You lose!')\n",
    "    else:\n",
    "        print(f'Try again. You have {10-count} tries left.')\n",
    "        count +=1\n",
    "    \n"
   ]
  },
  {
   "cell_type": "code",
   "execution_count": 19,
   "metadata": {},
   "outputs": [],
   "source": [
    "#4.Write a Python program to construct the following pattern, using a nested for loop.\n",
    "* \n",
    "* * \n",
    "* * * \n",
    "* * * * \n",
    "* * * * * \n",
    "* * * * \n",
    "* * * \n",
    "* * \n",
    "*"
   ]
  },
  {
   "cell_type": "code",
   "execution_count": 141,
   "metadata": {},
   "outputs": [
    {
     "name": "stdout",
     "output_type": "stream",
     "text": [
      "* \n",
      "* * \n",
      "* * * \n",
      "* * * * \n",
      "* * * * * \n",
      "* * * * \n",
      "* * * \n",
      "* * \n",
      "* \n"
     ]
    }
   ],
   "source": [
    "for n in range(1,6):\n",
    "    pattern = '* '*n\n",
    "    n += 1\n",
    "    print(pattern)\n",
    "for n in range(4,0,-1):\n",
    "    pattern2 = '* '*n\n",
    "    n -=1\n",
    "    print(pattern2)"
   ]
  },
  {
   "cell_type": "code",
   "execution_count": null,
   "metadata": {},
   "outputs": [],
   "source": [
    "# 5. Write a Python program that accepts a word from the user and reverse it. "
   ]
  },
  {
   "cell_type": "code",
   "execution_count": 51,
   "metadata": {},
   "outputs": [
    {
     "name": "stdout",
     "output_type": "stream",
     "text": [
      "Enter a word to be reversed: Sean\n",
      "<reversed object at 0x1123cacc0>\n"
     ]
    }
   ],
   "source": [
    "user_word = input('Enter a word to be reversed: ').strip()\n",
    "reversed_user_word = reversed(user_word)\n",
    "print(reversed_user_word)"
   ]
  },
  {
   "cell_type": "code",
   "execution_count": null,
   "metadata": {},
   "outputs": [],
   "source": [
    "# 6. Write a Python program to count the number of even and odd numbers from a series of numbers"
   ]
  },
  {
   "cell_type": "code",
   "execution_count": 62,
   "metadata": {},
   "outputs": [
    {
     "name": "stdout",
     "output_type": "stream",
     "text": [
      "0\n"
     ]
    },
    {
     "ename": "AttributeError",
     "evalue": "'int' object has no attribute 'count'",
     "output_type": "error",
     "traceback": [
      "\u001b[0;31m---------------------------------------------------------------------------\u001b[0m",
      "\u001b[0;31mAttributeError\u001b[0m                            Traceback (most recent call last)",
      "\u001b[0;32m<ipython-input-62-364d5311befa>\u001b[0m in \u001b[0;36m<module>\u001b[0;34m\u001b[0m\n\u001b[1;32m      3\u001b[0m \u001b[0;32mfor\u001b[0m \u001b[0mn\u001b[0m \u001b[0;32min\u001b[0m \u001b[0mnums\u001b[0m\u001b[0;34m:\u001b[0m\u001b[0;34m\u001b[0m\u001b[0;34m\u001b[0m\u001b[0m\n\u001b[1;32m      4\u001b[0m     \u001b[0;32mif\u001b[0m \u001b[0mn\u001b[0m \u001b[0;34m%\u001b[0m \u001b[0;36m2\u001b[0m \u001b[0;34m==\u001b[0m \u001b[0;36m0\u001b[0m\u001b[0;34m:\u001b[0m\u001b[0;34m\u001b[0m\u001b[0;34m\u001b[0m\u001b[0m\n\u001b[0;32m----> 5\u001b[0;31m         \u001b[0mcounter\u001b[0m \u001b[0;34m=\u001b[0m \u001b[0mn\u001b[0m\u001b[0;34m.\u001b[0m\u001b[0mcount\u001b[0m\u001b[0;34m(\u001b[0m\u001b[0;34m)\u001b[0m\u001b[0;34m\u001b[0m\u001b[0;34m\u001b[0m\u001b[0m\n\u001b[0m\u001b[1;32m      6\u001b[0m         \u001b[0mn\u001b[0m \u001b[0;34m+=\u001b[0m\u001b[0;36m1\u001b[0m\u001b[0;34m\u001b[0m\u001b[0;34m\u001b[0m\u001b[0m\n\u001b[1;32m      7\u001b[0m     \u001b[0mprint\u001b[0m\u001b[0;34m(\u001b[0m\u001b[0mcounter\u001b[0m\u001b[0;34m)\u001b[0m\u001b[0;34m\u001b[0m\u001b[0;34m\u001b[0m\u001b[0m\n",
      "\u001b[0;31mAttributeError\u001b[0m: 'int' object has no attribute 'count'"
     ]
    }
   ],
   "source": [
    "nums = [1,2,3,4,5,6,7,8,9]\n",
    "counter = 0\n",
    "for n in nums:\n",
    "    if n % 2 == 0:\n",
    "        counter = n.count()\n",
    "        n +=1\n",
    "    print(counter)"
   ]
  },
  {
   "cell_type": "code",
   "execution_count": null,
   "metadata": {},
   "outputs": [],
   "source": [
    "# 7. Write a Python program that prints each item and its corresponding type from the following list."
   ]
  },
  {
   "cell_type": "code",
   "execution_count": 68,
   "metadata": {},
   "outputs": [
    {
     "name": "stdout",
     "output_type": "stream",
     "text": [
      "1452   \t <class 'int'>\n",
      "11.23   \t <class 'float'>\n",
      "(1+2j)   \t <class 'complex'>\n",
      "True   \t <class 'bool'>\n",
      "w3resource   \t <class 'str'>\n",
      "(0, -1)   \t <class 'tuple'>\n",
      "[5, 12]   \t <class 'list'>\n",
      "{'class': 'V', 'section': 'A'}   \t <class 'dict'>\n"
     ]
    }
   ],
   "source": [
    "datalist = [1452, 11.23, 1+2j, True, 'w3resource', (0, -1), [5, 12], {\"class\":'V', \"section\":'A'}]\n",
    "\n",
    "for i in datalist:\n",
    "    print(i, '  \\t', type(i)) #how get the elements out of the tuple and dictionary"
   ]
  },
  {
   "cell_type": "code",
   "execution_count": null,
   "metadata": {},
   "outputs": [],
   "source": [
    "# 8. Write a Python program that prints all the numbers from 0 to 6 except 3 and 6.\n",
    "# Note : Use 'continue' statement."
   ]
  },
  {
   "cell_type": "code",
   "execution_count": 74,
   "metadata": {},
   "outputs": [
    {
     "name": "stdout",
     "output_type": "stream",
     "text": [
      "Printing all numbers except 3 and 6: 2.\n"
     ]
    }
   ],
   "source": [
    "def all_except_3_and_6(num):\n",
    "    for n in range(0,7):\n",
    "        if n == 3 or n == 6:\n",
    "            continue\n",
    "print(f'Printing all numbers except 3 and 6: {n}.')"
   ]
  },
  {
   "cell_type": "code",
   "execution_count": null,
   "metadata": {},
   "outputs": [],
   "source": [
    "# 9. Write a Python program to get the Fibonacci series between 0 to 50"
   ]
  },
  {
   "cell_type": "code",
   "execution_count": 82,
   "metadata": {},
   "outputs": [
    {
     "name": "stdout",
     "output_type": "stream",
     "text": [
      "[1, 3, 5, 7, 9, 11, 13, 15, 17, 19, 21, 23, 25, 27, 29, 31, 33, 35, 37, 39, 41, 43, 45, 47, 49, 51, 53, 55, 57, 59, 61, 63, 65, 67, 69, 71, 73, 75, 77, 79, 81, 83, 85, 87, 89, 91, 93, 95, 97, 99]\n"
     ]
    }
   ],
   "source": [
    "fibonacci = []\n",
    "for n in range(1,51):\n",
    "    sequence = n + n-1\n",
    "    fibonacci.append(sequence)\n",
    "print(fibonacci)"
   ]
  },
  {
   "cell_type": "code",
   "execution_count": null,
   "metadata": {},
   "outputs": [],
   "source": [
    "# Write a Python program which takes two digits m (row) and n (column) as input and generates a two-dimensional \n",
    "# array. The element value in the i-th row and j-th column of the array should be i*j"
   ]
  },
  {
   "cell_type": "code",
   "execution_count": 83,
   "metadata": {},
   "outputs": [],
   "source": [
    "import numpy as np\n",
    "\n"
   ]
  },
  {
   "cell_type": "code",
   "execution_count": null,
   "metadata": {},
   "outputs": [],
   "source": []
  }
 ],
 "metadata": {
  "kernelspec": {
   "display_name": "Python 3",
   "language": "python",
   "name": "python3"
  },
  "language_info": {
   "codemirror_mode": {
    "name": "ipython",
    "version": 3
   },
   "file_extension": ".py",
   "mimetype": "text/x-python",
   "name": "python",
   "nbconvert_exporter": "python",
   "pygments_lexer": "ipython3",
   "version": "3.7.3"
  }
 },
 "nbformat": 4,
 "nbformat_minor": 2
}
